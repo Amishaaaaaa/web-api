{
 "cells": [
  {
   "cell_type": "code",
   "execution_count": null,
   "id": "9d894d5f-0d99-415e-9580-db34be9ed402",
   "metadata": {},
   "outputs": [],
   "source": [
    "#Q1. What is an API? Give an example, where an API is used in real life.\n",
    "\n",
    "'''\n",
    "API is application programming interface.\n",
    "set of protocols that allows different software applications to communicate with each other.\n",
    "developers do not need to know the underlying work of a application, they can simply use apis to communicate with them.\n",
    "\n",
    "eg. Twitter API\n",
    "Using Twitter API developers can access and interact with Twitter's platform programmatically. With this api, developers can build applications that can perform various tasks such\n",
    "as retrieving tweets, posting tweets, user authentication and social media integration. By providing this api, Twitter allows developers to integrate Twitter's functionalities \n",
    "into their own applications, which enhances the overall user experience and extends the reach of Twitter's platform beyond it's official website and mobile app.\n",
    "'''"
   ]
  },
  {
   "cell_type": "code",
   "execution_count": null,
   "id": "1990a06d-43cc-4759-b516-c35e9ba494b7",
   "metadata": {},
   "outputs": [],
   "source": [
    "#Q2. Give advantages and disadvantages of using API.\n",
    "\n",
    "'''\n",
    "There are various advantages of Apis. Developers can communicate with software applications using Apis without trying to understand the underlying application over which it was built.\n",
    "They do not need to know the programming language using which it was built they can directly use the apis to access and find information that they want.\n",
    "They can use the api in their own application and create something more innovative out of it.\n",
    "Developers give access to limited number of features in the Apis. This enhances the security.\n",
    "applications can be developed faster using apis .They can use the already existing APIS to create applications. This will increase the pace of development.\n",
    "'''"
   ]
  },
  {
   "cell_type": "code",
   "execution_count": null,
   "id": "2191341a-afcf-4193-a73f-a145d88031e2",
   "metadata": {},
   "outputs": [],
   "source": [
    "#Q3. What is a Web API? Differentiate between API and Web API.\n",
    "\n",
    "'''\n",
    "web api(web service api or http api) ,accessed over the internet using the the HTTP.\n",
    "\n",
    "API: An API (Application Programming Interface) is a more general term that refers to a set of rules and protocols that allow different software applications to communicate with each \n",
    "other. APIs can use various communication methods, such as HTTP, SOAP, RPC, etc., depending on the design and purpose of the API.\n",
    "\n",
    "Web API: A Web API specifically uses HTTP as its communication protocol, making it accessible over the internet. It uses standard HTTP methods (GET, POST, PUT, DELETE, etc.) to perform\n",
    "actions on resources, and data is usually exchanged in formats like JSON or XML.\n",
    "'''"
   ]
  },
  {
   "cell_type": "code",
   "execution_count": null,
   "id": "94e52c69-b75c-4523-a215-f9caf12b5318",
   "metadata": {},
   "outputs": [],
   "source": [
    "#Q4. Explain REST and SOAP Architecture. Mention shortcomings of SOAP.\n",
    "\n",
    "'''\n",
    "REST (Representational State Transfer) Architecture:\n",
    "REST is an architectural style for designing networked applications and web services. It is a set of constraints that facilitate the scalability, simplicity, and performance of \n",
    "distributed systems. RESTful services use standard HTTP methods (GET, POST, PUT, DELETE, etc.) to perform actions on resources, and data is typically exchanged in lightweight formats\n",
    "like JSON or XML.\n",
    "\n",
    "SOAP (Simple Object Access Protocol) Architecture:\n",
    "SOAP is a protocol for exchanging structured information in the implementation of web services. Unlike REST, which relies on simple and lightweight representations, SOAP messages use\n",
    "XML for data exchange. SOAP is based on a set of XML-based standards for messaging, security, and communication between applications.\n",
    "'''"
   ]
  },
  {
   "cell_type": "code",
   "execution_count": null,
   "id": "b7cc3ddc-9604-4dc3-8bd3-df316da227f0",
   "metadata": {},
   "outputs": [],
   "source": [
    "#Q5. Differentiate between REST and SOAP.\n",
    "\n",
    "'''\n",
    "REST and SOAP are two different architectural styles for designing web services. REST is simpler, lighter, and more widely used for modern web applications, while SOAP is often used\n",
    "in enterprise scenarios that require strict contracts, security, and stateful interactions. The choice between REST and SOAP depends on the specific needs and requirements of the \n",
    "application being developed.\n",
    "'''"
   ]
  }
 ],
 "metadata": {
  "kernelspec": {
   "display_name": "Python 3 (ipykernel)",
   "language": "python",
   "name": "python3"
  },
  "language_info": {
   "codemirror_mode": {
    "name": "ipython",
    "version": 3
   },
   "file_extension": ".py",
   "mimetype": "text/x-python",
   "name": "python",
   "nbconvert_exporter": "python",
   "pygments_lexer": "ipython3",
   "version": "3.10.8"
  }
 },
 "nbformat": 4,
 "nbformat_minor": 5
}
